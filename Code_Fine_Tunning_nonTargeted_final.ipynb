{
 "cells": [
  {
   "cell_type": "code",
   "execution_count": 1,
   "metadata": {},
   "outputs": [],
   "source": [
    "import pandas as pd\n",
    "from matplotlib import pyplot\n",
    "import numpy as np\n",
    "import torch\n",
    "import os\n",
    "import shutil\n",
    "import xgboost as xgb\n",
    "from sklearn.model_selection import RepeatedKFold, cross_val_score\n",
    "from xgboost import XGBRegressor\n",
    "from sklearn.model_selection import train_test_split\n",
    "from matplotlib.ticker import StrMethodFormatter\n",
    "from sklearn.metrics import median_absolute_error, mean_absolute_percentage_error\n",
    "\n",
    "import warnings\n",
    "warnings.filterwarnings(\"ignore\")"
   ]
  },
  {
   "cell_type": "code",
   "execution_count": 2,
   "metadata": {},
   "outputs": [
    {
     "data": {
      "text/html": [
       "<div>\n",
       "<style scoped>\n",
       "    .dataframe tbody tr th:only-of-type {\n",
       "        vertical-align: middle;\n",
       "    }\n",
       "\n",
       "    .dataframe tbody tr th {\n",
       "        vertical-align: top;\n",
       "    }\n",
       "\n",
       "    .dataframe thead th {\n",
       "        text-align: right;\n",
       "    }\n",
       "</style>\n",
       "<table border=\"1\" class=\"dataframe\">\n",
       "  <thead>\n",
       "    <tr style=\"text-align: right;\">\n",
       "      <th></th>\n",
       "      <th>drug_id</th>\n",
       "      <th>drug_name</th>\n",
       "      <th>synonyms</th>\n",
       "      <th>pathway_name</th>\n",
       "      <th>targets</th>\n",
       "      <th>pubchem</th>\n",
       "    </tr>\n",
       "  </thead>\n",
       "  <tbody>\n",
       "    <tr>\n",
       "      <th>0</th>\n",
       "      <td>1259</td>\n",
       "      <td>Talazoparib</td>\n",
       "      <td>BMN-673, BMN 973</td>\n",
       "      <td>Genome integrity</td>\n",
       "      <td>PARP1, PARP2</td>\n",
       "      <td>44819241</td>\n",
       "    </tr>\n",
       "    <tr>\n",
       "      <th>1</th>\n",
       "      <td>1372</td>\n",
       "      <td>Trametinib</td>\n",
       "      <td>GSK1120212, Mekinist</td>\n",
       "      <td>ERK MAPK signaling</td>\n",
       "      <td>MEK1, MEK2</td>\n",
       "      <td>11707110</td>\n",
       "    </tr>\n",
       "    <tr>\n",
       "      <th>2</th>\n",
       "      <td>1559</td>\n",
       "      <td>Luminespib</td>\n",
       "      <td>AUY922, VER-52296,NVP-AUY922,  AUY</td>\n",
       "      <td>Protein stability and degradation</td>\n",
       "      <td>HSP90</td>\n",
       "      <td>10096043</td>\n",
       "    </tr>\n",
       "    <tr>\n",
       "      <th>3</th>\n",
       "      <td>1615</td>\n",
       "      <td>CZC24832</td>\n",
       "      <td>GTPL6653</td>\n",
       "      <td>PI3K/MTOR signaling</td>\n",
       "      <td>PI3Kgamma</td>\n",
       "      <td>42623951</td>\n",
       "    </tr>\n",
       "    <tr>\n",
       "      <th>4</th>\n",
       "      <td>1620</td>\n",
       "      <td>PFI3</td>\n",
       "      <td>PFI-3, PFI 3, AOB2221</td>\n",
       "      <td>Chromatin other</td>\n",
       "      <td>Polybromo 1, SMARCA4, SMARCA2</td>\n",
       "      <td>78243717</td>\n",
       "    </tr>\n",
       "  </tbody>\n",
       "</table>\n",
       "</div>"
      ],
      "text/plain": [
       "   drug_id    drug_name                            synonyms  \\\n",
       "0     1259  Talazoparib                    BMN-673, BMN 973   \n",
       "1     1372   Trametinib                GSK1120212, Mekinist   \n",
       "2     1559   Luminespib  AUY922, VER-52296,NVP-AUY922,  AUY   \n",
       "3     1615     CZC24832                            GTPL6653   \n",
       "4     1620         PFI3               PFI-3, PFI 3, AOB2221   \n",
       "\n",
       "                        pathway_name                        targets   pubchem  \n",
       "0                   Genome integrity                   PARP1, PARP2  44819241  \n",
       "1                 ERK MAPK signaling                     MEK1, MEK2  11707110  \n",
       "2  Protein stability and degradation                          HSP90  10096043  \n",
       "3                PI3K/MTOR signaling                      PI3Kgamma  42623951  \n",
       "4                    Chromatin other  Polybromo 1, SMARCA4, SMARCA2  78243717  "
      ]
     },
     "execution_count": 2,
     "metadata": {},
     "output_type": "execute_result"
    }
   ],
   "source": [
    "df = pd.read_csv('data/export.csv')\n",
    "df.head()"
   ]
  },
  {
   "cell_type": "code",
   "execution_count": 3,
   "metadata": {},
   "outputs": [
    {
     "data": {
      "text/html": [
       "<div>\n",
       "<style scoped>\n",
       "    .dataframe tbody tr th:only-of-type {\n",
       "        vertical-align: middle;\n",
       "    }\n",
       "\n",
       "    .dataframe tbody tr th {\n",
       "        vertical-align: top;\n",
       "    }\n",
       "\n",
       "    .dataframe thead th {\n",
       "        text-align: right;\n",
       "    }\n",
       "</style>\n",
       "<table border=\"1\" class=\"dataframe\">\n",
       "  <thead>\n",
       "    <tr style=\"text-align: right;\">\n",
       "      <th></th>\n",
       "      <th>Cell Line Name</th>\n",
       "      <th>COSMIC ID</th>\n",
       "      <th>GDSC Desc1</th>\n",
       "      <th>GDSC Desc2</th>\n",
       "      <th>TCGA Desc</th>\n",
       "      <th>Genetic Feature</th>\n",
       "      <th>IS Mutated</th>\n",
       "      <th>Recurrent Gain Loss</th>\n",
       "      <th>Genes in Segment</th>\n",
       "    </tr>\n",
       "  </thead>\n",
       "  <tbody>\n",
       "    <tr>\n",
       "      <th>0</th>\n",
       "      <td>CAL-29</td>\n",
       "      <td>1290730</td>\n",
       "      <td>urogenital_system</td>\n",
       "      <td>bladder</td>\n",
       "      <td>BLCA</td>\n",
       "      <td>CDC27_mut</td>\n",
       "      <td>0</td>\n",
       "      <td>3</td>\n",
       "      <td>NaN</td>\n",
       "    </tr>\n",
       "    <tr>\n",
       "      <th>1</th>\n",
       "      <td>CAL-29</td>\n",
       "      <td>1290730</td>\n",
       "      <td>urogenital_system</td>\n",
       "      <td>bladder</td>\n",
       "      <td>BLCA</td>\n",
       "      <td>CDC73_mut</td>\n",
       "      <td>0</td>\n",
       "      <td>3</td>\n",
       "      <td>NaN</td>\n",
       "    </tr>\n",
       "    <tr>\n",
       "      <th>2</th>\n",
       "      <td>CAL-29</td>\n",
       "      <td>1290730</td>\n",
       "      <td>urogenital_system</td>\n",
       "      <td>bladder</td>\n",
       "      <td>BLCA</td>\n",
       "      <td>CDH1_mut</td>\n",
       "      <td>0</td>\n",
       "      <td>3</td>\n",
       "      <td>NaN</td>\n",
       "    </tr>\n",
       "    <tr>\n",
       "      <th>3</th>\n",
       "      <td>CAL-29</td>\n",
       "      <td>1290730</td>\n",
       "      <td>urogenital_system</td>\n",
       "      <td>bladder</td>\n",
       "      <td>BLCA</td>\n",
       "      <td>CDK12_mut</td>\n",
       "      <td>0</td>\n",
       "      <td>3</td>\n",
       "      <td>NaN</td>\n",
       "    </tr>\n",
       "    <tr>\n",
       "      <th>4</th>\n",
       "      <td>CAL-29</td>\n",
       "      <td>1290730</td>\n",
       "      <td>urogenital_system</td>\n",
       "      <td>bladder</td>\n",
       "      <td>BLCA</td>\n",
       "      <td>CDKN1A_mut</td>\n",
       "      <td>0</td>\n",
       "      <td>3</td>\n",
       "      <td>NaN</td>\n",
       "    </tr>\n",
       "  </tbody>\n",
       "</table>\n",
       "</div>"
      ],
      "text/plain": [
       "  Cell Line Name  COSMIC ID         GDSC Desc1 GDSC Desc2 TCGA Desc  \\\n",
       "0         CAL-29    1290730  urogenital_system    bladder      BLCA   \n",
       "1         CAL-29    1290730  urogenital_system    bladder      BLCA   \n",
       "2         CAL-29    1290730  urogenital_system    bladder      BLCA   \n",
       "3         CAL-29    1290730  urogenital_system    bladder      BLCA   \n",
       "4         CAL-29    1290730  urogenital_system    bladder      BLCA   \n",
       "\n",
       "  Genetic Feature  IS Mutated  Recurrent Gain Loss Genes in Segment  \n",
       "0       CDC27_mut           0                    3              NaN  \n",
       "1       CDC73_mut           0                    3              NaN  \n",
       "2        CDH1_mut           0                    3              NaN  \n",
       "3       CDK12_mut           0                    3              NaN  \n",
       "4      CDKN1A_mut           0                    3              NaN  "
      ]
     },
     "execution_count": 3,
     "metadata": {},
     "output_type": "execute_result"
    }
   ],
   "source": [
    "def readGeneticData(dataPath):\n",
    "    df_Gen = pd.read_csv(dataPath)\n",
    "    df_Gen['IS Mutated']=df_Gen['IS Mutated'].dropna()\n",
    "    df_Gen['Recurrent Gain Loss']=df_Gen['Recurrent Gain Loss'].fillna('nan')\n",
    "    df_Gen['Recurrent Gain Loss']=df_Gen['Recurrent Gain Loss'].map({'gain': 1, 'loss':0, 'nan': 3})\n",
    "    return df_Gen\n",
    "df_Gen = readGeneticData('data\\PANCANCER_Genetic_features_Mon Feb 19 14_07_49 2024.csv')\n",
    "df_Gen.head()"
   ]
  },
  {
   "cell_type": "code",
   "execution_count": 4,
   "metadata": {},
   "outputs": [],
   "source": [
    "def readICData(dataPath):\n",
    "    df_IC = pd.read_csv(dataPath)\n",
    "    return df_IC\n",
    "df_IC = readICData(\"data\\PANCANCER_IC_Mon Feb 19 14_07_21 2024.csv\")"
   ]
  },
  {
   "cell_type": "code",
   "execution_count": 5,
   "metadata": {},
   "outputs": [],
   "source": [
    "unique_Genetic_Feature = df_Gen['Genetic Feature'].unique()\n",
    "# unique_Drugs = df_IC['Drug Name'].unique()\n",
    "not_targeted = ['N-acetyl cysteine','Leflunomide','Temozolomide','Nelarabine','KU-55933']\n",
    "targeted = ['Motesanib','CZC24832','MIRA-1','LJI308','THR-103','KRAS (G12C) Inhibitor-12']"
   ]
  },
  {
   "cell_type": "code",
   "execution_count": 6,
   "metadata": {},
   "outputs": [],
   "source": [
    "def generateGraphs(xgbm,path, graphType):\n",
    "    sorted_idx = xgbm.get_booster().get_score(importance_type=graphType)#['weight', 'gain', 'cover', 'total_gain', 'total_cover']\n",
    "    sorted_idx = {k: v for k, v in sorted(sorted_idx.items(), key=lambda item: item[1])}\n",
    "    pyplot.rcParams[\"figure.figsize\"] = (20,20)\n",
    "    pyplot.barh(np.array(list(sorted_idx.items()))[-20:,0], np.array(list(sorted_idx.items()))[-20:,1].astype(float))\n",
    "    pyplot.xticks(rotation=45, ha='right')\n",
    "    pyplot.savefig(path+'features_'+graphType+'.png')\n",
    "    pyplot.close('all')"
   ]
  },
  {
   "cell_type": "code",
   "execution_count": 7,
   "metadata": {},
   "outputs": [],
   "source": [
    "folder = 'results_non-targeted/'\n",
    "try:\n",
    "    shutil.rmtree(folder)\n",
    "except:\n",
    "    print(\"Folder doesn't exist\")\n",
    "    \n",
    "os.mkdir(folder)\n",
    "\n",
    "def load_merge_data():\n",
    "    drug = 'targeted'\n",
    "    df_select = df_IC[df_IC['Drug Name'].isin(['N-acetyl cysteine','Leflunomide','Temozolomide','Nelarabine','KU-55933'])]\n",
    "    df_select2 = df_select[['Drug Name', 'Cell Line Name','Tissue', 'Tissue Sub-type', 'IC50']]  \n",
    "    df_select2.loc[:,unique_Genetic_Feature] = 99\n",
    "    df_select2.loc[:,unique_Genetic_Feature+'_gain'] = 99\n",
    "    for n in df_select2['Cell Line Name']: \n",
    "        df_select_Gen = df_Gen.loc[df_Gen['Cell Line Name'] == n][['Genetic Feature','IS Mutated','Recurrent Gain Loss']]\n",
    "        df_select2.loc[df_select2['Cell Line Name'] == n,df_select_Gen['Genetic Feature']] = pd.pivot_table(df_select_Gen, values = 'IS Mutated', columns = 'Genetic Feature',sort=False).to_numpy()\n",
    "        df_select2.loc[df_select2['Cell Line Name'] == n,df_select_Gen['Genetic Feature']+'_gain'] = pd.pivot_table(df_select_Gen, values = 'Recurrent Gain Loss', columns = 'Genetic Feature',sort=False).to_numpy()\n",
    "    path = folder+ drug.strip()+'/'\n",
    "    os.mkdir(path)\n",
    "    df_select2.to_csv(path+drug+'_raw'+'.csv')\n",
    "    df_select2.dropna()\n",
    "    df_select2.to_csv(path+drug+'_noNAN'+'.csv')\n",
    "    \n",
    "    df_inputs = df_select2.drop(['Drug Name','Cell Line Name'], axis=1)\n",
    "    df_select2['Tissue'] = df_select2['Tissue'].astype('category').cat.codes\n",
    "    df_select2['Tissue Sub-type'] = df_select2['Tissue Sub-type'].astype('category').cat.codes\n",
    "    df_input = df_select2.drop(['Drug Name','Cell Line Name','IC50'], axis=1)\n",
    "    df_output = df_select2['IC50']\n",
    "    df_select2.to_csv(folder+'non_target.csv')\n",
    "    return df_input, df_output, path, df_select2\n",
    "    "
   ]
  },
  {
   "cell_type": "code",
   "execution_count": 8,
   "metadata": {},
   "outputs": [],
   "source": [
    "def load_data(df_select2):\n",
    "    df_input = df_select2.drop(['Drug Name','Cell Line Name','IC50'], axis=1)\n",
    "    df_output = df_select2['IC50']\n",
    "    return df_input, df_output"
   ]
  },
  {
   "cell_type": "code",
   "execution_count": 9,
   "metadata": {},
   "outputs": [],
   "source": [
    "results_summary = []\n",
    "df_input, df_output, path, df_select2 = load_merge_data()   \n",
    "X_train, X_test, y_train, y_test = train_test_split(df_input, df_output, test_size=0.2, random_state=42)"
   ]
  },
  {
   "cell_type": "code",
   "execution_count": 12,
   "metadata": {},
   "outputs": [],
   "source": [
    "model = XGBRegressor(n_estimators=1000, max_depth=5, eta=0.01, subsample=0.7, colsample_bytree=0.8)\n",
    "xgbm = model.fit(X_train,y_train)\n",
    "y_pred = model.predict(X_test) "
   ]
  },
  {
   "cell_type": "code",
   "execution_count": 13,
   "metadata": {},
   "outputs": [
    {
     "name": "stdout",
     "output_type": "stream",
     "text": [
      "MAE=1.6062178835906624\n",
      "MEDAE=1.1804327680943656\n",
      "MSE=4.481123954830995\n",
      "RMSE=2.1168665415729437\n",
      "MAPE=27.249219979097383\n",
      "MDAPE=20.88177494695882\n"
     ]
    }
   ],
   "source": [
    "# Mean Absolute Error (MAE)\n",
    "MAE = np.mean(abs(y_pred - y_test))\n",
    "print('MAE='+str(MAE))\n",
    "# Median Absolute Error (MedAE)\n",
    "MEDAE = np.median(abs(y_pred - y_test))\n",
    "print('MEDAE='+str(MEDAE))\n",
    "# Mean Squared Error (MSE)\n",
    "MSE = np.square(np.subtract(y_pred, y_test)).mean()\n",
    "print('MSE='+str(MSE))\n",
    "# Root Mean Squarred Error (RMSE) \n",
    "RMSE = np.sqrt(np.mean(np.square(y_pred - y_test)))\n",
    "print('RMSE='+str(RMSE))\n",
    "# Mean Absolute Percentage Error (MAPE)\n",
    "MAPE = np.mean((np.abs(np.subtract(y_test, y_pred)/ y_test))) * 100\n",
    "print('MAPE='+str(MAPE))\n",
    "# Median Absolute Percentage Error (MDAPE)\n",
    "MDAPE = np.median((np.abs(np.subtract(y_test, y_pred)/ y_test))) * 100 \n",
    "print('MDAPE='+str(MDAPE))"
   ]
  },
  {
   "cell_type": "code",
   "execution_count": 32,
   "metadata": {},
   "outputs": [
    {
     "data": {
      "text/plain": [
       "<Figure size 2500x2500 with 0 Axes>"
      ]
     },
     "metadata": {},
     "output_type": "display_data"
    },
    {
     "data": {
      "image/png": "[encoded data removed]",
      "text/plain": [
       "<Figure size 640x480 with 1 Axes>"
      ]
     },
     "metadata": {},
     "output_type": "display_data"
    }
   ],
   "source": [
    "import matplotlib.pyplot as plt\n",
    "from xgboost import plot_tree\n",
    "plt.figure(figsize=(25,25))\n",
    "plot_tree(model, fontsize=24)\n",
    "# plt.show()\n",
    "plt.savefig('tree_high_dpi', dpi=1200)"
   ]
  },
  {
   "cell_type": "markdown",
   "metadata": {},
   "source": []
  }
 ],
 "metadata": {
  "kernelspec": {
   "display_name": "p311",
   "language": "python",
   "name": "python3"
  },
  "language_info": {
   "codemirror_mode": {
    "name": "ipython",
    "version": 3
   },
   "file_extension": ".py",
   "mimetype": "text/x-python",
   "name": "python",
   "nbconvert_exporter": "python",
   "pygments_lexer": "ipython3",
   "version": "3.10.12"
  }
 },
 "nbformat": 4,
 "nbformat_minor": 2
}
